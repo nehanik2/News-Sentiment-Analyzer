{
  "cells": [
    {
      "cell_type": "markdown",
      "metadata": {
        "id": "9CPJubNpxuif"
      },
      "source": [
        "## News Sentiment Analysis using News Abstract"
      ]
    },
    {
      "cell_type": "code",
      "execution_count": null,
      "metadata": {
        "id": "O4dgnkNPxuii"
      },
      "outputs": [],
      "source": [
        "#STEP 0 - Making all imports\n",
        "import pandas as pd\n",
        "import numpy as np\n",
        "import matplotlib.pyplot as plt\n",
        "import sklearn\n",
        "from sklearn.feature_extraction.text import CountVectorizer\n",
        "from sklearn.ensemble import RandomForestClassifier\n",
        "from sklearn.metrics import classification_report,confusion_matrix,accuracy_score\n",
        "from sklearn.model_selection import train_test_split\n",
        "from google.colab import files\n"
      ]
    },
    {
      "cell_type": "code",
      "execution_count": 6,
      "metadata": {
        "colab": {
          "base_uri": "https://localhost:8080/",
          "height": 38
        },
        "id": "4H1PoyuBxuik",
        "outputId": "690f9b66-77a9-47c1-9ca6-ee2ac9a90a48"
      },
      "outputs": [
        {
          "data": {
            "text/html": [
              "\n",
              "     <input type=\"file\" id=\"files-1a91b8ca-bcfb-48b6-99b1-c66207f1d26d\" name=\"files[]\" multiple disabled\n",
              "        style=\"border:none\" />\n",
              "     <output id=\"result-1a91b8ca-bcfb-48b6-99b1-c66207f1d26d\">\n",
              "      Upload widget is only available when the cell has been executed in the\n",
              "      current browser session. Please rerun this cell to enable.\n",
              "      </output>\n",
              "      <script>// Copyright 2017 Google LLC\n",
              "//\n",
              "// Licensed under the Apache License, Version 2.0 (the \"License\");\n",
              "// you may not use this file except in compliance with the License.\n",
              "// You may obtain a copy of the License at\n",
              "//\n",
              "//      http://www.apache.org/licenses/LICENSE-2.0\n",
              "//\n",
              "// Unless required by applicable law or agreed to in writing, software\n",
              "// distributed under the License is distributed on an \"AS IS\" BASIS,\n",
              "// WITHOUT WARRANTIES OR CONDITIONS OF ANY KIND, either express or implied.\n",
              "// See the License for the specific language governing permissions and\n",
              "// limitations under the License.\n",
              "\n",
              "/**\n",
              " * @fileoverview Helpers for google.colab Python module.\n",
              " */\n",
              "(function(scope) {\n",
              "function span(text, styleAttributes = {}) {\n",
              "  const element = document.createElement('span');\n",
              "  element.textContent = text;\n",
              "  for (const key of Object.keys(styleAttributes)) {\n",
              "    element.style[key] = styleAttributes[key];\n",
              "  }\n",
              "  return element;\n",
              "}\n",
              "\n",
              "// Max number of bytes which will be uploaded at a time.\n",
              "const MAX_PAYLOAD_SIZE = 100 * 1024;\n",
              "\n",
              "function _uploadFiles(inputId, outputId) {\n",
              "  const steps = uploadFilesStep(inputId, outputId);\n",
              "  const outputElement = document.getElementById(outputId);\n",
              "  // Cache steps on the outputElement to make it available for the next call\n",
              "  // to uploadFilesContinue from Python.\n",
              "  outputElement.steps = steps;\n",
              "\n",
              "  return _uploadFilesContinue(outputId);\n",
              "}\n",
              "\n",
              "// This is roughly an async generator (not supported in the browser yet),\n",
              "// where there are multiple asynchronous steps and the Python side is going\n",
              "// to poll for completion of each step.\n",
              "// This uses a Promise to block the python side on completion of each step,\n",
              "// then passes the result of the previous step as the input to the next step.\n",
              "function _uploadFilesContinue(outputId) {\n",
              "  const outputElement = document.getElementById(outputId);\n",
              "  const steps = outputElement.steps;\n",
              "\n",
              "  const next = steps.next(outputElement.lastPromiseValue);\n",
              "  return Promise.resolve(next.value.promise).then((value) => {\n",
              "    // Cache the last promise value to make it available to the next\n",
              "    // step of the generator.\n",
              "    outputElement.lastPromiseValue = value;\n",
              "    return next.value.response;\n",
              "  });\n",
              "}\n",
              "\n",
              "/**\n",
              " * Generator function which is called between each async step of the upload\n",
              " * process.\n",
              " * @param {string} inputId Element ID of the input file picker element.\n",
              " * @param {string} outputId Element ID of the output display.\n",
              " * @return {!Iterable<!Object>} Iterable of next steps.\n",
              " */\n",
              "function* uploadFilesStep(inputId, outputId) {\n",
              "  const inputElement = document.getElementById(inputId);\n",
              "  inputElement.disabled = false;\n",
              "\n",
              "  const outputElement = document.getElementById(outputId);\n",
              "  outputElement.innerHTML = '';\n",
              "\n",
              "  const pickedPromise = new Promise((resolve) => {\n",
              "    inputElement.addEventListener('change', (e) => {\n",
              "      resolve(e.target.files);\n",
              "    });\n",
              "  });\n",
              "\n",
              "  const cancel = document.createElement('button');\n",
              "  inputElement.parentElement.appendChild(cancel);\n",
              "  cancel.textContent = 'Cancel upload';\n",
              "  const cancelPromise = new Promise((resolve) => {\n",
              "    cancel.onclick = () => {\n",
              "      resolve(null);\n",
              "    };\n",
              "  });\n",
              "\n",
              "  // Wait for the user to pick the files.\n",
              "  const files = yield {\n",
              "    promise: Promise.race([pickedPromise, cancelPromise]),\n",
              "    response: {\n",
              "      action: 'starting',\n",
              "    }\n",
              "  };\n",
              "\n",
              "  cancel.remove();\n",
              "\n",
              "  // Disable the input element since further picks are not allowed.\n",
              "  inputElement.disabled = true;\n",
              "\n",
              "  if (!files) {\n",
              "    return {\n",
              "      response: {\n",
              "        action: 'complete',\n",
              "      }\n",
              "    };\n",
              "  }\n",
              "\n",
              "  for (const file of files) {\n",
              "    const li = document.createElement('li');\n",
              "    li.append(span(file.name, {fontWeight: 'bold'}));\n",
              "    li.append(span(\n",
              "        `(${file.type || 'n/a'}) - ${file.size} bytes, ` +\n",
              "        `last modified: ${\n",
              "            file.lastModifiedDate ? file.lastModifiedDate.toLocaleDateString() :\n",
              "                                    'n/a'} - `));\n",
              "    const percent = span('0% done');\n",
              "    li.appendChild(percent);\n",
              "\n",
              "    outputElement.appendChild(li);\n",
              "\n",
              "    const fileDataPromise = new Promise((resolve) => {\n",
              "      const reader = new FileReader();\n",
              "      reader.onload = (e) => {\n",
              "        resolve(e.target.result);\n",
              "      };\n",
              "      reader.readAsArrayBuffer(file);\n",
              "    });\n",
              "    // Wait for the data to be ready.\n",
              "    let fileData = yield {\n",
              "      promise: fileDataPromise,\n",
              "      response: {\n",
              "        action: 'continue',\n",
              "      }\n",
              "    };\n",
              "\n",
              "    // Use a chunked sending to avoid message size limits. See b/62115660.\n",
              "    let position = 0;\n",
              "    do {\n",
              "      const length = Math.min(fileData.byteLength - position, MAX_PAYLOAD_SIZE);\n",
              "      const chunk = new Uint8Array(fileData, position, length);\n",
              "      position += length;\n",
              "\n",
              "      const base64 = btoa(String.fromCharCode.apply(null, chunk));\n",
              "      yield {\n",
              "        response: {\n",
              "          action: 'append',\n",
              "          file: file.name,\n",
              "          data: base64,\n",
              "        },\n",
              "      };\n",
              "\n",
              "      let percentDone = fileData.byteLength === 0 ?\n",
              "          100 :\n",
              "          Math.round((position / fileData.byteLength) * 100);\n",
              "      percent.textContent = `${percentDone}% done`;\n",
              "\n",
              "    } while (position < fileData.byteLength);\n",
              "  }\n",
              "\n",
              "  // All done.\n",
              "  yield {\n",
              "    response: {\n",
              "      action: 'complete',\n",
              "    }\n",
              "  };\n",
              "}\n",
              "\n",
              "scope.google = scope.google || {};\n",
              "scope.google.colab = scope.google.colab || {};\n",
              "scope.google.colab._files = {\n",
              "  _uploadFiles,\n",
              "  _uploadFilesContinue,\n",
              "};\n",
              "})(self);\n",
              "</script> "
            ],
            "text/plain": [
              "<IPython.core.display.HTML object>"
            ]
          },
          "metadata": {},
          "output_type": "display_data"
        }
      ],
      "source": [
        "from google.colab import files\n",
        "uploaded = files.upload()\n",
        "\n",
        "df=pd.read_csv('all_data.csv', encoding = \"ISO-8859-1\")"
      ]
    },
    {
      "cell_type": "code",
      "execution_count": 35,
      "metadata": {
        "id": "GT__JBJ3Dpd5"
      },
      "outputs": [],
      "source": [
        "#STEP 1 - Data Exploration\n",
        "#Identifying number of rows and columns\n",
        "#Identifying shape of the data\n",
        "#Identifying size of the data"
      ]
    },
    {
      "cell_type": "code",
      "execution_count": 74,
      "metadata": {
        "colab": {
          "base_uri": "https://localhost:8080/",
          "height": 660
        },
        "id": "_kyEBxrNxuik",
        "outputId": "f5c34730-7e48-48e5-ea66-7cc204e54deb"
      },
      "outputs": [
        {
          "data": {
            "application/vnd.google.colaboratory.intrinsic+json": {
              "summary": "{\n  \"name\": \"df\",\n  \"rows\": 23887,\n  \"fields\": [\n    {\n      \"column\": \"abstract\",\n      \"properties\": {\n        \"dtype\": \"string\",\n        \"num_unique_values\": 22697,\n        \"samples\": [\n          \"Fund-raisers are borrowing heavily from business techniques to keep donations flowing to the military. The latest trend? Broad approaches that rely on networks of friends and acquaintances.\",\n          \"An array of smart sex toys cater to those who want to take a data-driven approach to their pleasure.\",\n          \"Will the Who\\u00e2\\u0080\\u0099s rock opera about a traumatized boy hit the jackpot again?\"\n        ],\n        \"semantic_type\": \"\",\n        \"description\": \"\"\n      }\n    },\n    {\n      \"column\": \"web_url\",\n      \"properties\": {\n        \"dtype\": \"string\",\n        \"num_unique_values\": 23887,\n        \"samples\": [\n          \"https://www.nytimes.com/2024/05/30/arts/music/popcast-artificial-intelligence-ai.html\",\n          \"https://www.nytimes.com/2024/06/12/us/politics/ben-carson-trump-vp.html\",\n          \"https://www.nytimes.com/2024/03/29/realestate/nyc-private-clubs.html\"\n        ],\n        \"semantic_type\": \"\",\n        \"description\": \"\"\n      }\n    },\n    {\n      \"column\": \"snippet\",\n      \"properties\": {\n        \"dtype\": \"string\",\n        \"num_unique_values\": 22623,\n        \"samples\": [\n          \"Quotation of the Day for Thursday, June 6, 2024.\",\n          \"The former president\\u00e2\\u0080\\u0099s claim ahead of a pivotal Supreme Court hearing that he was protecting the election system rather than subverting it is part of a pattern of shaping his own reality.\",\n          \"The band\\u00e2\\u0080\\u0099s 11th album, \\u00e2\\u0080\\u009cLittle Rope,\\u00e2\\u0080\\u009d was born out of tragedy, but feels curiously restrained.\"\n        ],\n        \"semantic_type\": \"\",\n        \"description\": \"\"\n      }\n    },\n    {\n      \"column\": \"lead_paragraph\",\n      \"properties\": {\n        \"dtype\": \"string\",\n        \"num_unique_values\": 21886,\n        \"samples\": [\n          \"As he celebrated victory early Friday after winning a parliamentary election, George Galloway, a veteran left-wing firebrand, directed his attack squarely at the leader of Britain\\u00e2\\u0080\\u0099s opposition Labour Party.\",\n          \"When Aleksei A. Navalny was alive, the Kremlin sought to portray him as an inconsequential figure unworthy of attention, even as the Russian authorities vilified and attacked him with a viciousness that suggested the opposite.\",\n          \"It has become clear that Prime Minister Benjamin Netanyahu of Israel is not the leader for this critical moment.\"\n        ],\n        \"semantic_type\": \"\",\n        \"description\": \"\"\n      }\n    },\n    {\n      \"column\": \"print_section\",\n      \"properties\": {\n        \"dtype\": \"category\",\n        \"num_unique_values\": 17,\n        \"samples\": [\n          \"B\",\n          \"A\",\n          \"AR\"\n        ],\n        \"semantic_type\": \"\",\n        \"description\": \"\"\n      }\n    },\n    {\n      \"column\": \"print_page\",\n      \"properties\": {\n        \"dtype\": \"number\",\n        \"std\": 9.541278003320556,\n        \"min\": 1.0,\n        \"max\": 144.0,\n        \"num_unique_values\": 91,\n        \"samples\": [\n          130.0,\n          20.0,\n          92.0\n        ],\n        \"semantic_type\": \"\",\n        \"description\": \"\"\n      }\n    },\n    {\n      \"column\": \"source\",\n      \"properties\": {\n        \"dtype\": \"category\",\n        \"num_unique_values\": 1,\n        \"samples\": [\n          \"The New York Times\"\n        ],\n        \"semantic_type\": \"\",\n        \"description\": \"\"\n      }\n    },\n    {\n      \"column\": \"multimedia\",\n      \"properties\": {\n        \"dtype\": \"string\",\n        \"num_unique_values\": 22178,\n        \"samples\": [\n          \"[{'rank': 0, 'subtype': 'xlarge', 'caption': None, 'credit': None, 'type': 'image', 'url': 'images/2024/06/08/opinion/08opinion-thepoint-collins-grover/08opinion-thepoint-collins-grover-articleLarge.jpg', 'height': 385, 'width': 600, 'subType': 'xlarge', 'crop_name': 'articleLarge', 'legacy': {'xlarge': 'images/2024/06/08/opinion/08opinion-thepoint-collins-grover/08opinion-thepoint-collins-grover-articleLarge.jpg', 'xlargewidth': 600, 'xlargeheight': 385}}, {'rank': 0, 'subtype': 'jumbo', 'caption': None, 'credit': None, 'type': 'image', 'url': 'images/2024/06/08/opinion/08opinion-thepoint-collins-grover/08opinion-thepoint-collins-grover-jumbo.jpg', 'height': 657, 'width': 1024, 'subType': 'jumbo', 'crop_name': 'jumbo', 'legacy': {}}, {'rank': 0, 'subtype': 'superJumbo', 'caption': None, 'credit': None, 'type': 'image', 'url': 'images/2024/06/08/opinion/08opinion-thepoint-collins-grover/08opinion-thepoint-collins-grover-superJumbo.jpg', 'height': 1315, 'width': 2048, 'subType': 'superJumbo', 'crop_name': 'superJumbo', 'legacy': {}}, {'rank': 0, 'subtype': 'thumbnail', 'caption': None, 'credit': None, 'type': 'image', 'url': 'images/2024/06/08/opinion/08opinion-thepoint-collins-grover/08opinion-thepoint-collins-grover-thumbStandard.jpg', 'height': 75, 'width': 75, 'subType': 'thumbnail', 'crop_name': 'thumbStandard', 'legacy': {'thumbnail': 'images/2024/06/08/opinion/08opinion-thepoint-collins-grover/08opinion-thepoint-collins-grover-thumbStandard.jpg', 'thumbnailwidth': 75, 'thumbnailheight': 75}}, {'rank': 0, 'subtype': 'thumbLarge', 'caption': None, 'credit': None, 'type': 'image', 'url': 'images/2024/06/08/opinion/08opinion-thepoint-collins-grover/08opinion-thepoint-collins-grover-thumbLarge.jpg', 'height': 150, 'width': 150, 'subType': 'thumbLarge', 'crop_name': 'thumbLarge', 'legacy': {}}]\"\n        ],\n        \"semantic_type\": \"\",\n        \"description\": \"\"\n      }\n    },\n    {\n      \"column\": \"headline\",\n      \"properties\": {\n        \"dtype\": \"string\",\n        \"num_unique_values\": 23156,\n        \"samples\": [\n          \"{'main': 'Michigan Tests the Strength of Biden\\u00e2\\u0080\\u0099s Campaign', 'kicker': None, 'content_kicker': None, 'print_headline': '', 'name': None, 'seo': None, 'sub': None}\"\n        ],\n        \"semantic_type\": \"\",\n        \"description\": \"\"\n      }\n    },\n    {\n      \"column\": \"keywords\",\n      \"properties\": {\n        \"dtype\": \"string\",\n        \"num_unique_values\": 20641,\n        \"samples\": [\n          \"[{'name': 'subject', 'value': 'Politics and Government', 'rank': 1, 'major': 'N'}, {'name': 'subject', 'value': 'Campaign Finance', 'rank': 2, 'major': 'N'}, {'name': 'organizations', 'value': 'State Bank of India', 'rank': 3, 'major': 'N'}, {'name': 'organizations', 'value': 'Bharatiya Janata Party', 'rank': 4, 'major': 'N'}, {'name': 'organizations', 'value': 'Reliance Industries', 'rank': 5, 'major': 'N'}, {'name': 'persons', 'value': 'Modi, Narendra', 'rank': 6, 'major': 'N'}, {'name': 'glocations', 'value': 'India', 'rank': 7, 'major': 'N'}]\"\n        ],\n        \"semantic_type\": \"\",\n        \"description\": \"\"\n      }\n    },\n    {\n      \"column\": \"pub_date\",\n      \"properties\": {\n        \"dtype\": \"object\",\n        \"num_unique_values\": 22790,\n        \"samples\": [\n          \"2024-04-28T09:01:39+0000\"\n        ],\n        \"semantic_type\": \"\",\n        \"description\": \"\"\n      }\n    },\n    {\n      \"column\": \"document_type\",\n      \"properties\": {\n        \"dtype\": \"category\",\n        \"num_unique_values\": 2,\n        \"samples\": [\n          \"multimedia\"\n        ],\n        \"semantic_type\": \"\",\n        \"description\": \"\"\n      }\n    },\n    {\n      \"column\": \"news_desk\",\n      \"properties\": {\n        \"dtype\": \"category\",\n        \"num_unique_values\": 70,\n        \"samples\": [\n          \"Editorial\"\n        ],\n        \"semantic_type\": \"\",\n        \"description\": \"\"\n      }\n    },\n    {\n      \"column\": \"section_name\",\n      \"properties\": {\n        \"dtype\": \"category\",\n        \"num_unique_values\": 48,\n        \"samples\": [\n          \"Fashion & Style\"\n        ],\n        \"semantic_type\": \"\",\n        \"description\": \"\"\n      }\n    },\n    {\n      \"column\": \"subsection_name\",\n      \"properties\": {\n        \"dtype\": \"category\",\n        \"num_unique_values\": 62,\n        \"samples\": [\n          \"Education Life\"\n        ],\n        \"semantic_type\": \"\",\n        \"description\": \"\"\n      }\n    },\n    {\n      \"column\": \"byline\",\n      \"properties\": {\n        \"dtype\": \"category\",\n        \"num_unique_values\": 6199,\n        \"samples\": [\n          \"{'original': 'By J. David Goodman and Desiree Rios', 'person': [{'firstname': 'J.', 'middlename': 'David', 'lastname': 'Goodman', 'qualifier': None, 'title': None, 'role': 'reported', 'organization': '', 'rank': 1}, {'firstname': 'Desiree', 'middlename': None, 'lastname': 'Rios', 'qualifier': None, 'title': None, 'role': 'reported', 'organization': '', 'rank': 2}], 'organization': None}\"\n        ],\n        \"semantic_type\": \"\",\n        \"description\": \"\"\n      }\n    },\n    {\n      \"column\": \"type_of_material\",\n      \"properties\": {\n        \"dtype\": \"category\",\n        \"num_unique_values\": 14,\n        \"samples\": [\n          \"Video\"\n        ],\n        \"semantic_type\": \"\",\n        \"description\": \"\"\n      }\n    },\n    {\n      \"column\": \"_id\",\n      \"properties\": {\n        \"dtype\": \"string\",\n        \"num_unique_values\": 23887,\n        \"samples\": [\n          \"nyt://article/87cdbd49-fe8a-5daf-9919-5ffea634540f\"\n        ],\n        \"semantic_type\": \"\",\n        \"description\": \"\"\n      }\n    },\n    {\n      \"column\": \"word_count\",\n      \"properties\": {\n        \"dtype\": \"number\",\n        \"std\": 770,\n        \"min\": 0,\n        \"max\": 17102,\n        \"num_unique_values\": 2589,\n        \"samples\": [\n          243\n        ],\n        \"semantic_type\": \"\",\n        \"description\": \"\"\n      }\n    },\n    {\n      \"column\": \"uri\",\n      \"properties\": {\n        \"dtype\": \"string\",\n        \"num_unique_values\": 23887,\n        \"samples\": [\n          \"nyt://article/87cdbd49-fe8a-5daf-9919-5ffea634540f\"\n        ],\n        \"semantic_type\": \"\",\n        \"description\": \"\"\n      }\n    }\n  ]\n}",
              "type": "dataframe",
              "variable_name": "df"
            },
            "text/html": [
              "\n",
              "  <div id=\"df-3f13eb74-65f2-41a4-806b-160757741e6e\" class=\"colab-df-container\">\n",
              "    <div>\n",
              "<style scoped>\n",
              "    .dataframe tbody tr th:only-of-type {\n",
              "        vertical-align: middle;\n",
              "    }\n",
              "\n",
              "    .dataframe tbody tr th {\n",
              "        vertical-align: top;\n",
              "    }\n",
              "\n",
              "    .dataframe thead th {\n",
              "        text-align: right;\n",
              "    }\n",
              "</style>\n",
              "<table border=\"1\" class=\"dataframe\">\n",
              "  <thead>\n",
              "    <tr style=\"text-align: right;\">\n",
              "      <th></th>\n",
              "      <th>abstract</th>\n",
              "      <th>web_url</th>\n",
              "      <th>snippet</th>\n",
              "      <th>lead_paragraph</th>\n",
              "      <th>print_section</th>\n",
              "      <th>print_page</th>\n",
              "      <th>source</th>\n",
              "      <th>multimedia</th>\n",
              "      <th>headline</th>\n",
              "      <th>keywords</th>\n",
              "      <th>pub_date</th>\n",
              "      <th>document_type</th>\n",
              "      <th>news_desk</th>\n",
              "      <th>section_name</th>\n",
              "      <th>subsection_name</th>\n",
              "      <th>byline</th>\n",
              "      <th>type_of_material</th>\n",
              "      <th>_id</th>\n",
              "      <th>word_count</th>\n",
              "      <th>uri</th>\n",
              "    </tr>\n",
              "  </thead>\n",
              "  <tbody>\n",
              "    <tr>\n",
              "      <th>0</th>\n",
              "      <td>The tentative deal for the menâs golf circui...</td>\n",
              "      <td>https://www.nytimes.com/2023/12/31/business/de...</td>\n",
              "      <td>The tentative deal for the menâs golf circui...</td>\n",
              "      <td>When the PGA Tour and the upstart LIV Golf lea...</td>\n",
              "      <td>B</td>\n",
              "      <td>6.0</td>\n",
              "      <td>The New York Times</td>\n",
              "      <td>[{'rank': 0, 'subtype': 'xlarge', 'caption': N...</td>\n",
              "      <td>{'main': 'PGA Tour and Saudi-Backed LIV Extend...</td>\n",
              "      <td>[{'name': 'subject', 'value': 'Golf', 'rank': ...</td>\n",
              "      <td>2024-01-01T00:25:32+0000</td>\n",
              "      <td>article</td>\n",
              "      <td>Business</td>\n",
              "      <td>Business Day</td>\n",
              "      <td>DealBook</td>\n",
              "      <td>{'original': 'By Lauren Hirsch', 'person': [{'...</td>\n",
              "      <td>News</td>\n",
              "      <td>nyt://article/0b16df62-9eba-5e67-a6dd-ae457d13...</td>\n",
              "      <td>558</td>\n",
              "      <td>nyt://article/0b16df62-9eba-5e67-a6dd-ae457d13...</td>\n",
              "    </tr>\n",
              "    <tr>\n",
              "      <th>1</th>\n",
              "      <td>Harry Zheng makes his New York Times debut.</td>\n",
              "      <td>https://www.nytimes.com/2023/12/31/crosswords/...</td>\n",
              "      <td>Harry Zheng makes his New York Times debut.</td>\n",
              "      <td>Jump to: Todayâs Theme | Tricky Clues</td>\n",
              "      <td>NaN</td>\n",
              "      <td>NaN</td>\n",
              "      <td>The New York Times</td>\n",
              "      <td>[{'rank': 0, 'subtype': 'xlarge', 'caption': N...</td>\n",
              "      <td>{'main': 'Something to Whistle', 'kicker': 'wo...</td>\n",
              "      <td>[{'name': 'subject', 'value': 'Crossword Puzzl...</td>\n",
              "      <td>2024-01-01T00:32:06+0000</td>\n",
              "      <td>article</td>\n",
              "      <td>Games</td>\n",
              "      <td>Crosswords &amp; Games</td>\n",
              "      <td>NaN</td>\n",
              "      <td>{'original': 'By Sam Corbin', 'person': [{'fir...</td>\n",
              "      <td>News</td>\n",
              "      <td>nyt://article/e78e4da6-d5b5-5636-a0c2-1b13e62c...</td>\n",
              "      <td>855</td>\n",
              "      <td>nyt://article/e78e4da6-d5b5-5636-a0c2-1b13e62c...</td>\n",
              "    </tr>\n",
              "    <tr>\n",
              "      <th>2</th>\n",
              "      <td>Iranian-backed Houthi gunmen from Yemen had fi...</td>\n",
              "      <td>https://www.nytimes.com/2023/12/31/world/middl...</td>\n",
              "      <td>Iranian-backed Houthi gunmen from Yemen had fi...</td>\n",
              "      <td>A clash between Iranian-backed Houthi fighters...</td>\n",
              "      <td>NaN</td>\n",
              "      <td>NaN</td>\n",
              "      <td>The New York Times</td>\n",
              "      <td>[{'rank': 0, 'subtype': 'xlarge', 'caption': N...</td>\n",
              "      <td>{'main': 'U.S. Helicopters Sink 3 Houthi Boats...</td>\n",
              "      <td>[{'name': 'subject', 'value': 'Israel-Gaza War...</td>\n",
              "      <td>2024-01-01T00:53:23+0000</td>\n",
              "      <td>article</td>\n",
              "      <td>Foreign</td>\n",
              "      <td>World</td>\n",
              "      <td>Middle East</td>\n",
              "      <td>{'original': 'By David E. Sanger, Eric Schmitt...</td>\n",
              "      <td>News</td>\n",
              "      <td>nyt://article/2b16c6ee-54aa-593c-a6cb-89d41421...</td>\n",
              "      <td>1218</td>\n",
              "      <td>nyt://article/2b16c6ee-54aa-593c-a6cb-89d41421...</td>\n",
              "    </tr>\n",
              "    <tr>\n",
              "      <th>3</th>\n",
              "      <td>New Yearâs celebrations took place as protes...</td>\n",
              "      <td>https://www.nytimes.com/2023/12/31/nyregion/ti...</td>\n",
              "      <td>New Yearâs celebrations took place as protes...</td>\n",
              "      <td>Hundreds of thousands of people crowded into T...</td>\n",
              "      <td>NaN</td>\n",
              "      <td>NaN</td>\n",
              "      <td>The New York Times</td>\n",
              "      <td>[{'rank': 0, 'subtype': 'xlarge', 'caption': N...</td>\n",
              "      <td>{'main': 'In Times Square, Hundreds of Thousan...</td>\n",
              "      <td>[{'name': 'subject', 'value': 'New Year', 'ran...</td>\n",
              "      <td>2024-01-01T02:09:45+0000</td>\n",
              "      <td>article</td>\n",
              "      <td>Metro</td>\n",
              "      <td>New York</td>\n",
              "      <td>NaN</td>\n",
              "      <td>{'original': 'By Andy Newman, Camille Baker an...</td>\n",
              "      <td>News</td>\n",
              "      <td>nyt://article/814aee78-1ecc-580f-9294-21f66832...</td>\n",
              "      <td>608</td>\n",
              "      <td>nyt://article/814aee78-1ecc-580f-9294-21f66832...</td>\n",
              "    </tr>\n",
              "    <tr>\n",
              "      <th>4</th>\n",
              "      <td>Quotation of the Day for Monday, January 1, 2024.</td>\n",
              "      <td>https://www.nytimes.com/2023/12/31/pageoneplus...</td>\n",
              "      <td>Quotation of the Day for Monday, January 1, 2024.</td>\n",
              "      <td>âIt feels fun, a religious Jew being friends...</td>\n",
              "      <td>A</td>\n",
              "      <td>2.0</td>\n",
              "      <td>The New York Times</td>\n",
              "      <td>[]</td>\n",
              "      <td>{'main': 'Quotation of the Day: In a Jewish-Ar...</td>\n",
              "      <td>[]</td>\n",
              "      <td>2024-01-01T03:59:09+0000</td>\n",
              "      <td>article</td>\n",
              "      <td>Summary</td>\n",
              "      <td>Corrections</td>\n",
              "      <td>NaN</td>\n",
              "      <td>{'original': '', 'person': [], 'organization':...</td>\n",
              "      <td>Quote</td>\n",
              "      <td>nyt://article/66b6b6a7-c436-5ab9-9318-b2bb3cbe...</td>\n",
              "      <td>36</td>\n",
              "      <td>nyt://article/66b6b6a7-c436-5ab9-9318-b2bb3cbe...</td>\n",
              "    </tr>\n",
              "  </tbody>\n",
              "</table>\n",
              "</div>\n",
              "    <div class=\"colab-df-buttons\">\n",
              "\n",
              "  <div class=\"colab-df-container\">\n",
              "    <button class=\"colab-df-convert\" onclick=\"convertToInteractive('df-3f13eb74-65f2-41a4-806b-160757741e6e')\"\n",
              "            title=\"Convert this dataframe to an interactive table.\"\n",
              "            style=\"display:none;\">\n",
              "\n",
              "  <svg xmlns=\"http://www.w3.org/2000/svg\" height=\"24px\" viewBox=\"0 -960 960 960\">\n",
              "    <path d=\"M120-120v-720h720v720H120Zm60-500h600v-160H180v160Zm220 220h160v-160H400v160Zm0 220h160v-160H400v160ZM180-400h160v-160H180v160Zm440 0h160v-160H620v160ZM180-180h160v-160H180v160Zm440 0h160v-160H620v160Z\"/>\n",
              "  </svg>\n",
              "    </button>\n",
              "\n",
              "  <style>\n",
              "    .colab-df-container {\n",
              "      display:flex;\n",
              "      gap: 12px;\n",
              "    }\n",
              "\n",
              "    .colab-df-convert {\n",
              "      background-color: #E8F0FE;\n",
              "      border: none;\n",
              "      border-radius: 50%;\n",
              "      cursor: pointer;\n",
              "      display: none;\n",
              "      fill: #1967D2;\n",
              "      height: 32px;\n",
              "      padding: 0 0 0 0;\n",
              "      width: 32px;\n",
              "    }\n",
              "\n",
              "    .colab-df-convert:hover {\n",
              "      background-color: #E2EBFA;\n",
              "      box-shadow: 0px 1px 2px rgba(60, 64, 67, 0.3), 0px 1px 3px 1px rgba(60, 64, 67, 0.15);\n",
              "      fill: #174EA6;\n",
              "    }\n",
              "\n",
              "    .colab-df-buttons div {\n",
              "      margin-bottom: 4px;\n",
              "    }\n",
              "\n",
              "    [theme=dark] .colab-df-convert {\n",
              "      background-color: #3B4455;\n",
              "      fill: #D2E3FC;\n",
              "    }\n",
              "\n",
              "    [theme=dark] .colab-df-convert:hover {\n",
              "      background-color: #434B5C;\n",
              "      box-shadow: 0px 1px 3px 1px rgba(0, 0, 0, 0.15);\n",
              "      filter: drop-shadow(0px 1px 2px rgba(0, 0, 0, 0.3));\n",
              "      fill: #FFFFFF;\n",
              "    }\n",
              "  </style>\n",
              "\n",
              "    <script>\n",
              "      const buttonEl =\n",
              "        document.querySelector('#df-3f13eb74-65f2-41a4-806b-160757741e6e button.colab-df-convert');\n",
              "      buttonEl.style.display =\n",
              "        google.colab.kernel.accessAllowed ? 'block' : 'none';\n",
              "\n",
              "      async function convertToInteractive(key) {\n",
              "        const element = document.querySelector('#df-3f13eb74-65f2-41a4-806b-160757741e6e');\n",
              "        const dataTable =\n",
              "          await google.colab.kernel.invokeFunction('convertToInteractive',\n",
              "                                                    [key], {});\n",
              "        if (!dataTable) return;\n",
              "\n",
              "        const docLinkHtml = 'Like what you see? Visit the ' +\n",
              "          '<a target=\"_blank\" href=https://colab.research.google.com/notebooks/data_table.ipynb>data table notebook</a>'\n",
              "          + ' to learn more about interactive tables.';\n",
              "        element.innerHTML = '';\n",
              "        dataTable['output_type'] = 'display_data';\n",
              "        await google.colab.output.renderOutput(dataTable, element);\n",
              "        const docLink = document.createElement('div');\n",
              "        docLink.innerHTML = docLinkHtml;\n",
              "        element.appendChild(docLink);\n",
              "      }\n",
              "    </script>\n",
              "  </div>\n",
              "\n",
              "\n",
              "    <div id=\"df-124d8168-6488-4d12-84d6-1ce8d303cca8\">\n",
              "      <button class=\"colab-df-quickchart\" onclick=\"quickchart('df-124d8168-6488-4d12-84d6-1ce8d303cca8')\"\n",
              "                title=\"Suggest charts\"\n",
              "                style=\"display:none;\">\n",
              "\n",
              "<svg xmlns=\"http://www.w3.org/2000/svg\" height=\"24px\"viewBox=\"0 0 24 24\"\n",
              "     width=\"24px\">\n",
              "    <g>\n",
              "        <path d=\"M19 3H5c-1.1 0-2 .9-2 2v14c0 1.1.9 2 2 2h14c1.1 0 2-.9 2-2V5c0-1.1-.9-2-2-2zM9 17H7v-7h2v7zm4 0h-2V7h2v10zm4 0h-2v-4h2v4z\"/>\n",
              "    </g>\n",
              "</svg>\n",
              "      </button>\n",
              "\n",
              "<style>\n",
              "  .colab-df-quickchart {\n",
              "      --bg-color: #E8F0FE;\n",
              "      --fill-color: #1967D2;\n",
              "      --hover-bg-color: #E2EBFA;\n",
              "      --hover-fill-color: #174EA6;\n",
              "      --disabled-fill-color: #AAA;\n",
              "      --disabled-bg-color: #DDD;\n",
              "  }\n",
              "\n",
              "  [theme=dark] .colab-df-quickchart {\n",
              "      --bg-color: #3B4455;\n",
              "      --fill-color: #D2E3FC;\n",
              "      --hover-bg-color: #434B5C;\n",
              "      --hover-fill-color: #FFFFFF;\n",
              "      --disabled-bg-color: #3B4455;\n",
              "      --disabled-fill-color: #666;\n",
              "  }\n",
              "\n",
              "  .colab-df-quickchart {\n",
              "    background-color: var(--bg-color);\n",
              "    border: none;\n",
              "    border-radius: 50%;\n",
              "    cursor: pointer;\n",
              "    display: none;\n",
              "    fill: var(--fill-color);\n",
              "    height: 32px;\n",
              "    padding: 0;\n",
              "    width: 32px;\n",
              "  }\n",
              "\n",
              "  .colab-df-quickchart:hover {\n",
              "    background-color: var(--hover-bg-color);\n",
              "    box-shadow: 0 1px 2px rgba(60, 64, 67, 0.3), 0 1px 3px 1px rgba(60, 64, 67, 0.15);\n",
              "    fill: var(--button-hover-fill-color);\n",
              "  }\n",
              "\n",
              "  .colab-df-quickchart-complete:disabled,\n",
              "  .colab-df-quickchart-complete:disabled:hover {\n",
              "    background-color: var(--disabled-bg-color);\n",
              "    fill: var(--disabled-fill-color);\n",
              "    box-shadow: none;\n",
              "  }\n",
              "\n",
              "  .colab-df-spinner {\n",
              "    border: 2px solid var(--fill-color);\n",
              "    border-color: transparent;\n",
              "    border-bottom-color: var(--fill-color);\n",
              "    animation:\n",
              "      spin 1s steps(1) infinite;\n",
              "  }\n",
              "\n",
              "  @keyframes spin {\n",
              "    0% {\n",
              "      border-color: transparent;\n",
              "      border-bottom-color: var(--fill-color);\n",
              "      border-left-color: var(--fill-color);\n",
              "    }\n",
              "    20% {\n",
              "      border-color: transparent;\n",
              "      border-left-color: var(--fill-color);\n",
              "      border-top-color: var(--fill-color);\n",
              "    }\n",
              "    30% {\n",
              "      border-color: transparent;\n",
              "      border-left-color: var(--fill-color);\n",
              "      border-top-color: var(--fill-color);\n",
              "      border-right-color: var(--fill-color);\n",
              "    }\n",
              "    40% {\n",
              "      border-color: transparent;\n",
              "      border-right-color: var(--fill-color);\n",
              "      border-top-color: var(--fill-color);\n",
              "    }\n",
              "    60% {\n",
              "      border-color: transparent;\n",
              "      border-right-color: var(--fill-color);\n",
              "    }\n",
              "    80% {\n",
              "      border-color: transparent;\n",
              "      border-right-color: var(--fill-color);\n",
              "      border-bottom-color: var(--fill-color);\n",
              "    }\n",
              "    90% {\n",
              "      border-color: transparent;\n",
              "      border-bottom-color: var(--fill-color);\n",
              "    }\n",
              "  }\n",
              "</style>\n",
              "\n",
              "      <script>\n",
              "        async function quickchart(key) {\n",
              "          const quickchartButtonEl =\n",
              "            document.querySelector('#' + key + ' button');\n",
              "          quickchartButtonEl.disabled = true;  // To prevent multiple clicks.\n",
              "          quickchartButtonEl.classList.add('colab-df-spinner');\n",
              "          try {\n",
              "            const charts = await google.colab.kernel.invokeFunction(\n",
              "                'suggestCharts', [key], {});\n",
              "          } catch (error) {\n",
              "            console.error('Error during call to suggestCharts:', error);\n",
              "          }\n",
              "          quickchartButtonEl.classList.remove('colab-df-spinner');\n",
              "          quickchartButtonEl.classList.add('colab-df-quickchart-complete');\n",
              "        }\n",
              "        (() => {\n",
              "          let quickchartButtonEl =\n",
              "            document.querySelector('#df-124d8168-6488-4d12-84d6-1ce8d303cca8 button');\n",
              "          quickchartButtonEl.style.display =\n",
              "            google.colab.kernel.accessAllowed ? 'block' : 'none';\n",
              "        })();\n",
              "      </script>\n",
              "    </div>\n",
              "\n",
              "    </div>\n",
              "  </div>\n"
            ],
            "text/plain": [
              "                                            abstract  \\\n",
              "0  The tentative deal for the menâs golf circui...   \n",
              "1        Harry Zheng makes his New York Times debut.   \n",
              "2  Iranian-backed Houthi gunmen from Yemen had fi...   \n",
              "3  New Yearâs celebrations took place as protes...   \n",
              "4  Quotation of the Day for Monday, January 1, 2024.   \n",
              "\n",
              "                                             web_url  \\\n",
              "0  https://www.nytimes.com/2023/12/31/business/de...   \n",
              "1  https://www.nytimes.com/2023/12/31/crosswords/...   \n",
              "2  https://www.nytimes.com/2023/12/31/world/middl...   \n",
              "3  https://www.nytimes.com/2023/12/31/nyregion/ti...   \n",
              "4  https://www.nytimes.com/2023/12/31/pageoneplus...   \n",
              "\n",
              "                                             snippet  \\\n",
              "0  The tentative deal for the menâs golf circui...   \n",
              "1        Harry Zheng makes his New York Times debut.   \n",
              "2  Iranian-backed Houthi gunmen from Yemen had fi...   \n",
              "3  New Yearâs celebrations took place as protes...   \n",
              "4  Quotation of the Day for Monday, January 1, 2024.   \n",
              "\n",
              "                                      lead_paragraph print_section  \\\n",
              "0  When the PGA Tour and the upstart LIV Golf lea...             B   \n",
              "1            Jump to: Todayâs Theme | Tricky Clues           NaN   \n",
              "2  A clash between Iranian-backed Houthi fighters...           NaN   \n",
              "3  Hundreds of thousands of people crowded into T...           NaN   \n",
              "4  âIt feels fun, a religious Jew being friends...             A   \n",
              "\n",
              "   print_page              source  \\\n",
              "0         6.0  The New York Times   \n",
              "1         NaN  The New York Times   \n",
              "2         NaN  The New York Times   \n",
              "3         NaN  The New York Times   \n",
              "4         2.0  The New York Times   \n",
              "\n",
              "                                          multimedia  \\\n",
              "0  [{'rank': 0, 'subtype': 'xlarge', 'caption': N...   \n",
              "1  [{'rank': 0, 'subtype': 'xlarge', 'caption': N...   \n",
              "2  [{'rank': 0, 'subtype': 'xlarge', 'caption': N...   \n",
              "3  [{'rank': 0, 'subtype': 'xlarge', 'caption': N...   \n",
              "4                                                 []   \n",
              "\n",
              "                                            headline  \\\n",
              "0  {'main': 'PGA Tour and Saudi-Backed LIV Extend...   \n",
              "1  {'main': 'Something to Whistle', 'kicker': 'wo...   \n",
              "2  {'main': 'U.S. Helicopters Sink 3 Houthi Boats...   \n",
              "3  {'main': 'In Times Square, Hundreds of Thousan...   \n",
              "4  {'main': 'Quotation of the Day: In a Jewish-Ar...   \n",
              "\n",
              "                                            keywords  \\\n",
              "0  [{'name': 'subject', 'value': 'Golf', 'rank': ...   \n",
              "1  [{'name': 'subject', 'value': 'Crossword Puzzl...   \n",
              "2  [{'name': 'subject', 'value': 'Israel-Gaza War...   \n",
              "3  [{'name': 'subject', 'value': 'New Year', 'ran...   \n",
              "4                                                 []   \n",
              "\n",
              "                   pub_date document_type news_desk        section_name  \\\n",
              "0  2024-01-01T00:25:32+0000       article  Business        Business Day   \n",
              "1  2024-01-01T00:32:06+0000       article     Games  Crosswords & Games   \n",
              "2  2024-01-01T00:53:23+0000       article   Foreign               World   \n",
              "3  2024-01-01T02:09:45+0000       article     Metro            New York   \n",
              "4  2024-01-01T03:59:09+0000       article   Summary         Corrections   \n",
              "\n",
              "  subsection_name                                             byline  \\\n",
              "0        DealBook  {'original': 'By Lauren Hirsch', 'person': [{'...   \n",
              "1             NaN  {'original': 'By Sam Corbin', 'person': [{'fir...   \n",
              "2     Middle East  {'original': 'By David E. Sanger, Eric Schmitt...   \n",
              "3             NaN  {'original': 'By Andy Newman, Camille Baker an...   \n",
              "4             NaN  {'original': '', 'person': [], 'organization':...   \n",
              "\n",
              "  type_of_material                                                _id  \\\n",
              "0             News  nyt://article/0b16df62-9eba-5e67-a6dd-ae457d13...   \n",
              "1             News  nyt://article/e78e4da6-d5b5-5636-a0c2-1b13e62c...   \n",
              "2             News  nyt://article/2b16c6ee-54aa-593c-a6cb-89d41421...   \n",
              "3             News  nyt://article/814aee78-1ecc-580f-9294-21f66832...   \n",
              "4            Quote  nyt://article/66b6b6a7-c436-5ab9-9318-b2bb3cbe...   \n",
              "\n",
              "   word_count                                                uri  \n",
              "0         558  nyt://article/0b16df62-9eba-5e67-a6dd-ae457d13...  \n",
              "1         855  nyt://article/e78e4da6-d5b5-5636-a0c2-1b13e62c...  \n",
              "2        1218  nyt://article/2b16c6ee-54aa-593c-a6cb-89d41421...  \n",
              "3         608  nyt://article/814aee78-1ecc-580f-9294-21f66832...  \n",
              "4          36  nyt://article/66b6b6a7-c436-5ab9-9318-b2bb3cbe...  "
            ]
          },
          "execution_count": 74,
          "metadata": {},
          "output_type": "execute_result"
        }
      ],
      "source": [
        "#Identifying df.head()\n",
        "df.head()"
      ]
    },
    {
      "cell_type": "code",
      "execution_count": 75,
      "metadata": {
        "colab": {
          "base_uri": "https://localhost:8080/"
        },
        "id": "0ciyh57vD22p",
        "outputId": "5c4c5ff4-32d4-4909-d570-a378c8c2bd32"
      },
      "outputs": [
        {
          "name": "stdout",
          "output_type": "stream",
          "text": [
            "Number of rows:  23887\n",
            "Number of columns:  20\n"
          ]
        }
      ],
      "source": [
        "#Number of rows and columns\n",
        "rows, columns = df.shape\n",
        "print(\"Number of rows: \", rows)\n",
        "print(\"Number of columns: \", columns)"
      ]
    },
    {
      "cell_type": "code",
      "execution_count": 76,
      "metadata": {
        "colab": {
          "base_uri": "https://localhost:8080/"
        },
        "id": "G1rtZELSD29i",
        "outputId": "ad0cf2a2-6da4-4853-cac9-2c0e7d0a0332"
      },
      "outputs": [
        {
          "name": "stdout",
          "output_type": "stream",
          "text": [
            "This is the the size of the data:  477740\n"
          ]
        }
      ],
      "source": [
        "#Identifying the size of the data\n",
        "size = df.size\n",
        "print(\"This is the the size of the data: \", size)"
      ]
    },
    {
      "cell_type": "code",
      "execution_count": 77,
      "metadata": {
        "colab": {
          "base_uri": "https://localhost:8080/"
        },
        "id": "aVlvNGkvD3AB",
        "outputId": "7297217d-ff7a-4320-ce74-0af4b9c3b226"
      },
      "outputs": [
        {
          "name": "stdout",
          "output_type": "stream",
          "text": [
            "Number of features:  20\n",
            "Features:  ['abstract', 'web_url', 'snippet', 'lead_paragraph', 'print_section', 'print_page', 'source', 'multimedia', 'headline', 'keywords', 'pub_date', 'document_type', 'news_desk', 'section_name', 'subsection_name', 'byline', 'type_of_material', '_id', 'word_count', 'uri']\n"
          ]
        }
      ],
      "source": [
        "#Listing the number and names of features\n",
        "features = df.columns.tolist()\n",
        "print(\"Number of features: \", len(features))\n",
        "print(\"Features: \", features)"
      ]
    },
    {
      "cell_type": "code",
      "execution_count": 78,
      "metadata": {
        "colab": {
          "base_uri": "https://localhost:8080/"
        },
        "id": "SktlckkCKQnR",
        "outputId": "778b7aa4-b407-4ead-c86c-fbdc99d9092d"
      },
      "outputs": [
        {
          "name": "stdout",
          "output_type": "stream",
          "text": [
            "Features in alphabetical order:  ['_id', 'abstract', 'byline', 'document_type', 'headline', 'keywords', 'lead_paragraph', 'multimedia', 'news_desk', 'print_page', 'print_section', 'pub_date', 'section_name', 'snippet', 'source', 'subsection_name', 'type_of_material', 'uri', 'web_url', 'word_count']\n"
          ]
        }
      ],
      "source": [
        "#Ordering the features alphabetically\n",
        "features.sort()\n",
        "print(\"Features in alphabetical order: \", features)\n",
        "\n"
      ]
    },
    {
      "cell_type": "code",
      "execution_count": 79,
      "metadata": {
        "colab": {
          "base_uri": "https://localhost:8080/"
        },
        "id": "_d8E1c3PD3Ce",
        "outputId": "f5be4cef-0fa2-4e18-dac4-8372a6ddb58f"
      },
      "outputs": [
        {
          "name": "stdout",
          "output_type": "stream",
          "text": [
            "Data types:  abstract             object\n",
            "web_url              object\n",
            "snippet              object\n",
            "lead_paragraph       object\n",
            "print_section        object\n",
            "print_page          float64\n",
            "source               object\n",
            "multimedia           object\n",
            "headline             object\n",
            "keywords             object\n",
            "pub_date             object\n",
            "document_type        object\n",
            "news_desk            object\n",
            "section_name         object\n",
            "subsection_name      object\n",
            "byline               object\n",
            "type_of_material     object\n",
            "_id                  object\n",
            "word_count            int64\n",
            "uri                  object\n",
            "dtype: object\n"
          ]
        }
      ],
      "source": [
        "#Finding the datatypes in data\n",
        "data_types = df.dtypes\n",
        "print(\"Data types: \", data_types)"
      ]
    },
    {
      "cell_type": "code",
      "execution_count": 80,
      "metadata": {
        "colab": {
          "base_uri": "https://localhost:8080/"
        },
        "id": "RlCbh2A0D3Eu",
        "outputId": "69b63d7d-839b-4bb7-8519-05599046aa90"
      },
      "outputs": [
        {
          "name": "stdout",
          "output_type": "stream",
          "text": [
            "<class 'pandas.core.frame.DataFrame'>\n",
            "RangeIndex: 23887 entries, 0 to 23886\n",
            "Data columns (total 20 columns):\n",
            " #   Column            Non-Null Count  Dtype  \n",
            "---  ------            --------------  -----  \n",
            " 0   abstract          23879 non-null  object \n",
            " 1   web_url           23887 non-null  object \n",
            " 2   snippet           23805 non-null  object \n",
            " 3   lead_paragraph    23798 non-null  object \n",
            " 4   print_section     12796 non-null  object \n",
            " 5   print_page        12796 non-null  float64\n",
            " 6   source            23887 non-null  object \n",
            " 7   multimedia        23887 non-null  object \n",
            " 8   headline          23887 non-null  object \n",
            " 9   keywords          23887 non-null  object \n",
            " 10  pub_date          23887 non-null  object \n",
            " 11  document_type     23887 non-null  object \n",
            " 12  news_desk         23423 non-null  object \n",
            " 13  section_name      23886 non-null  object \n",
            " 14  subsection_name   9646 non-null   object \n",
            " 15  byline            23887 non-null  object \n",
            " 16  type_of_material  23376 non-null  object \n",
            " 17  _id               23887 non-null  object \n",
            " 18  word_count        23887 non-null  int64  \n",
            " 19  uri               23887 non-null  object \n",
            "dtypes: float64(1), int64(1), object(18)\n",
            "memory usage: 3.6+ MB\n",
            "Informatin of the data is:  None\n"
          ]
        }
      ],
      "source": [
        "#Information of the data\n",
        "info = df.info()\n",
        "print(\"Informatin of the data is: \", info)"
      ]
    },
    {
      "cell_type": "code",
      "execution_count": 81,
      "metadata": {
        "id": "X1b4LVZjxuil"
      },
      "outputs": [],
      "source": [
        "#STEP 2 - DATA PREPROCESSING\n",
        "#Finding the missing values\n",
        "#Finding the redundant values\n",
        "#Replacing missing values using suitable method if needed\n"
      ]
    },
    {
      "cell_type": "code",
      "execution_count": 82,
      "metadata": {
        "colab": {
          "base_uri": "https://localhost:8080/"
        },
        "id": "HL1huwwCzhM8",
        "outputId": "bae45ad0-0ec5-400a-a2cf-4300c53aaaf4"
      },
      "outputs": [
        {
          "name": "stdout",
          "output_type": "stream",
          "text": [
            "The total number of missing values in data:  abstract                8\n",
            "web_url                 0\n",
            "snippet                82\n",
            "lead_paragraph         89\n",
            "print_section       11091\n",
            "print_page          11091\n",
            "source                  0\n",
            "multimedia              0\n",
            "headline                0\n",
            "keywords                0\n",
            "pub_date                0\n",
            "document_type           0\n",
            "news_desk             464\n",
            "section_name            1\n",
            "subsection_name     14241\n",
            "byline                  0\n",
            "type_of_material      511\n",
            "_id                     0\n",
            "word_count              0\n",
            "uri                     0\n",
            "dtype: int64\n"
          ]
        }
      ],
      "source": [
        "#Finding missing values\n",
        "missing_values = df.isnull().sum()\n",
        "print(\"The total number of missing values in data: \", missing_values)"
      ]
    },
    {
      "cell_type": "code",
      "execution_count": 83,
      "metadata": {
        "colab": {
          "base_uri": "https://localhost:8080/"
        },
        "id": "5EWhQgjgFY64",
        "outputId": "31d4dce6-e888-4d84-f832-f7c5219c30e6"
      },
      "outputs": [
        {
          "name": "stdout",
          "output_type": "stream",
          "text": [
            "abstract             True\n",
            "web_url             False\n",
            "snippet              True\n",
            "lead_paragraph       True\n",
            "print_section        True\n",
            "print_page           True\n",
            "source              False\n",
            "multimedia          False\n",
            "headline            False\n",
            "keywords            False\n",
            "pub_date            False\n",
            "document_type       False\n",
            "news_desk            True\n",
            "section_name         True\n",
            "subsection_name      True\n",
            "byline              False\n",
            "type_of_material     True\n",
            "_id                 False\n",
            "word_count          False\n",
            "uri                 False\n",
            "dtype: bool\n"
          ]
        }
      ],
      "source": [
        "#Finding missing value in each\n",
        "mv = df.isnull().any()\n",
        "print(mv)"
      ]
    },
    {
      "cell_type": "code",
      "execution_count": 84,
      "metadata": {
        "colab": {
          "base_uri": "https://localhost:8080/"
        },
        "id": "3dxIgkMDzhPi",
        "outputId": "0084ff55-e70c-4666-b929-e78327133a20"
      },
      "outputs": [
        {
          "name": "stdout",
          "output_type": "stream",
          "text": [
            "True\n"
          ]
        }
      ],
      "source": [
        "#Checking missing values\n",
        "mv_2 = df.isnull().any().any()\n",
        "print(mv_2)"
      ]
    },
    {
      "cell_type": "code",
      "execution_count": 85,
      "metadata": {
        "colab": {
          "base_uri": "https://localhost:8080/"
        },
        "id": "Hrl4k1r_Kg7x",
        "outputId": "f0c3cab9-7310-44d3-b551-a4626fb6b21c"
      },
      "outputs": [
        {
          "name": "stdout",
          "output_type": "stream",
          "text": [
            "Percentage of missing values:  abstract             0.033491\n",
            "web_url              0.000000\n",
            "snippet              0.343283\n",
            "lead_paragraph       0.372588\n",
            "print_section       46.431113\n",
            "print_page          46.431113\n",
            "source               0.000000\n",
            "multimedia           0.000000\n",
            "headline             0.000000\n",
            "keywords             0.000000\n",
            "pub_date             0.000000\n",
            "document_type        0.000000\n",
            "news_desk            1.942479\n",
            "section_name         0.004186\n",
            "subsection_name     59.618202\n",
            "byline               0.000000\n",
            "type_of_material     2.139239\n",
            "_id                  0.000000\n",
            "word_count           0.000000\n",
            "uri                  0.000000\n",
            "dtype: float64\n"
          ]
        }
      ],
      "source": [
        "#Checking the percentage of missing values of features to decide which features to drop and which to consider\n",
        "percent = (df.isnull().sum() / len(df)) * 100\n",
        "print(\"Percentage of missing values: \", percent)\n"
      ]
    },
    {
      "cell_type": "code",
      "execution_count": 86,
      "metadata": {
        "colab": {
          "base_uri": "https://localhost:8080/"
        },
        "id": "c6m3DgmiLMG1",
        "outputId": "dbb7e9dc-57c6-40d7-9b45-30f8c1e5b9a8"
      },
      "outputs": [
        {
          "name": "stdout",
          "output_type": "stream",
          "text": [
            "The highest to lowest missing values are:  subsection_name     59.618202\n",
            "print_section       46.431113\n",
            "print_page          46.431113\n",
            "type_of_material     2.139239\n",
            "news_desk            1.942479\n",
            "lead_paragraph       0.372588\n",
            "snippet              0.343283\n",
            "abstract             0.033491\n",
            "section_name         0.004186\n",
            "web_url              0.000000\n",
            "source               0.000000\n",
            "multimedia           0.000000\n",
            "document_type        0.000000\n",
            "pub_date             0.000000\n",
            "keywords             0.000000\n",
            "headline             0.000000\n",
            "byline               0.000000\n",
            "_id                  0.000000\n",
            "word_count           0.000000\n",
            "uri                  0.000000\n",
            "dtype: float64\n"
          ]
        }
      ],
      "source": [
        "#Listing the percent in descending order\n",
        "percent = percent.sort_values(ascending=False)\n",
        "print(\"The highest to lowest missing values are: \", percent)"
      ]
    },
    {
      "cell_type": "code",
      "execution_count": 87,
      "metadata": {
        "colab": {
          "base_uri": "https://localhost:8080/"
        },
        "id": "u0ygHwmgLmMp",
        "outputId": "20d14968-a283-452a-f703-29968b0b2783"
      },
      "outputs": [
        {
          "name": "stdout",
          "output_type": "stream",
          "text": [
            "Dropped features:  subsection_name    59.618202\n",
            "dtype: float64\n"
          ]
        }
      ],
      "source": [
        "#Threshold - If column has more than 50% missing values dropping it entirely\n",
        "dropped_features = percent[percent > 50]\n",
        "print(\"Dropped features: \", dropped_features)"
      ]
    },
    {
      "cell_type": "code",
      "execution_count": 88,
      "metadata": {
        "id": "wUY6finHLzX4"
      },
      "outputs": [],
      "source": [
        "#Fixing the missing values by adding data or replacing data\n",
        "#Sincei it has both numerical and text data, the data is filled differently\n",
        "\n",
        "#The text features\n",
        "text_features = ['abstract', 'snippet', 'lead_paragraph', 'print_section',\n",
        "             'source', 'headline', 'keywords', 'news_desk',\n",
        "             'section_name', 'subsection_name', 'byline', 'type_of_material']\n",
        "\n",
        "df[text_features] = df[text_features].fillna(\"Unknown\")"
      ]
    },
    {
      "cell_type": "code",
      "execution_count": 89,
      "metadata": {
        "id": "j8V_QsYSMVTi"
      },
      "outputs": [],
      "source": [
        "#Replacing missing values of the features which have only numerical values\n",
        "#The highest missing value percentage for the feature with numerical values only is print_page\n",
        "\n",
        "#Filling the missing values with the median of the feature\n",
        "numeric_cols = ['print_page']\n",
        "df[numeric_cols] = df[numeric_cols].fillna(df[numeric_cols].median())"
      ]
    },
    {
      "cell_type": "code",
      "execution_count": 90,
      "metadata": {
        "colab": {
          "base_uri": "https://localhost:8080/"
        },
        "id": "kehL7yqwNJZc",
        "outputId": "3a7e5380-d5ec-4b42-b0a5-8cadfb7f035b"
      },
      "outputs": [
        {
          "name": "stdout",
          "output_type": "stream",
          "text": [
            "The total number of missing values in data:  abstract            0\n",
            "web_url             0\n",
            "snippet             0\n",
            "lead_paragraph      0\n",
            "print_section       0\n",
            "print_page          0\n",
            "source              0\n",
            "multimedia          0\n",
            "headline            0\n",
            "keywords            0\n",
            "pub_date            0\n",
            "document_type       0\n",
            "news_desk           0\n",
            "section_name        0\n",
            "subsection_name     0\n",
            "byline              0\n",
            "type_of_material    0\n",
            "_id                 0\n",
            "word_count          0\n",
            "uri                 0\n",
            "dtype: int64\n",
            "Percentage of missing values:  abstract            0.0\n",
            "web_url             0.0\n",
            "snippet             0.0\n",
            "lead_paragraph      0.0\n",
            "print_section       0.0\n",
            "print_page          0.0\n",
            "source              0.0\n",
            "multimedia          0.0\n",
            "headline            0.0\n",
            "keywords            0.0\n",
            "pub_date            0.0\n",
            "document_type       0.0\n",
            "news_desk           0.0\n",
            "section_name        0.0\n",
            "subsection_name     0.0\n",
            "byline              0.0\n",
            "type_of_material    0.0\n",
            "_id                 0.0\n",
            "word_count          0.0\n",
            "uri                 0.0\n",
            "dtype: float64\n"
          ]
        }
      ],
      "source": [
        "#Now chekcing the missing values after the replacement and fixing\n",
        "missing_values = df.isnull().sum()\n",
        "print(\"The total number of missing values in data: \", missing_values)\n",
        "\n",
        "percent = (df.isnull().sum() / len(df)) * 100\n",
        "print(\"Percentage of missing values: \", percent)\n",
        "\n",
        "\n"
      ]
    },
    {
      "cell_type": "code",
      "execution_count": 91,
      "metadata": {
        "colab": {
          "base_uri": "https://localhost:8080/"
        },
        "id": "Y9TSKtWcNJc1",
        "outputId": "8a1aaf00-a12b-4301-e108-52f1f31687f2"
      },
      "outputs": [
        {
          "name": "stdout",
          "output_type": "stream",
          "text": [
            "Number of duplicates in data:  0\n"
          ]
        }
      ],
      "source": [
        "#Finding redundancy in data\n",
        "#Checkign the number of duplicates\n",
        "duplicates = df.duplicated().sum()\n",
        "print(\"Number of duplicates in data: \", duplicates)"
      ]
    },
    {
      "cell_type": "code",
      "execution_count": 92,
      "metadata": {
        "id": "Y-xE89mQFjVk"
      },
      "outputs": [],
      "source": [
        "#STEP 3 - Feature Comparison, selection and extraction\n",
        "#Finding the relation of the features\n",
        "#Finding which features are more relevant\n",
        "#Selecting features by measuring the corelation coefficient"
      ]
    },
    {
      "cell_type": "code",
      "execution_count": 93,
      "metadata": {
        "colab": {
          "base_uri": "https://localhost:8080/"
        },
        "id": "rnCl5rslOLqn",
        "outputId": "b2cc9fab-5e90-4abf-c8d3-1b1a19eb00c7"
      },
      "outputs": [
        {
          "name": "stdout",
          "output_type": "stream",
          "text": [
            "Number of features:  20\n",
            "Features:  ['_id', 'abstract', 'byline', 'document_type', 'headline', 'keywords', 'lead_paragraph', 'multimedia', 'news_desk', 'print_page', 'print_section', 'pub_date', 'section_name', 'snippet', 'source', 'subsection_name', 'type_of_material', 'uri', 'web_url', 'word_count']\n"
          ]
        }
      ],
      "source": [
        "#Checking total number and list of features\n",
        "print(\"Number of features: \", len(features))\n",
        "print(\"Features: \", features)"
      ]
    },
    {
      "cell_type": "code",
      "execution_count": 94,
      "metadata": {
        "colab": {
          "base_uri": "https://localhost:8080/"
        },
        "id": "5Yec7fTZORXO",
        "outputId": "b015e659-aa4b-4b47-b28f-202f5e1bfe89"
      },
      "outputs": [
        {
          "name": "stdout",
          "output_type": "stream",
          "text": [
            "<Compressed Sparse Row sparse matrix of dtype 'float64'\n",
            "\twith 2308953 stored elements and shape (23887, 62508)>\n",
            "  Coords\tValues\n",
            "  (0, 55912)\t0.07043531937201347\n",
            "  (0, 55703)\t0.14744016420220935\n",
            "  (0, 14635)\t0.1773605788496359\n",
            "  (0, 21510)\t0.045124842424681275\n",
            "  (0, 35523)\t0.17900431431042985\n",
            "  (0, 23615)\t0.4326913826893175\n",
            "  (0, 11015)\t0.26367072381770995\n",
            "  (0, 56508)\t0.0555297127115183\n",
            "  (0, 29583)\t0.16371799678172416\n",
            "  (0, 21529)\t0.10595032329037572\n",
            "  (0, 24696)\t0.054237160330307656\n",
            "  (0, 14714)\t0.18832347163648946\n",
            "  (0, 663)\t0.17795464328278837\n",
            "  (0, 14616)\t0.24848805283865613\n",
            "  (0, 8788)\t0.04641826667184003\n",
            "  (0, 50996)\t0.10448440503972148\n",
            "  (0, 44686)\t0.08931759045887552\n",
            "  (0, 46268)\t0.11403410119659275\n",
            "  (0, 60823)\t0.027192654427778584\n",
            "  (0, 41972)\t0.23465280853582612\n",
            "  (0, 56853)\t0.16123695263326795\n",
            "  (0, 3057)\t0.03788908896953021\n",
            "  (0, 58882)\t0.08178748589325119\n",
            "  (0, 32777)\t0.24536245767975357\n",
            "  (0, 31934)\t0.04968377308807167\n",
            "  :\t:\n",
            "  (23886, 11981)\t0.182177762398432\n",
            "  (23886, 26463)\t0.13453319065792738\n",
            "  (23886, 17886)\t0.0647781619843589\n",
            "  (23886, 32072)\t0.0863417634558325\n",
            "  (23886, 50088)\t0.2444851423230171\n",
            "  (23886, 22749)\t0.07262616010688176\n",
            "  (23886, 36102)\t0.08729458731822332\n",
            "  (23886, 12502)\t0.06562143549162115\n",
            "  (23886, 45431)\t0.07052393018067284\n",
            "  (23886, 61545)\t0.06600157250825457\n",
            "  (23886, 38236)\t0.20252113277144523\n",
            "  (23886, 44115)\t0.07083933165600868\n",
            "  (23886, 58473)\t0.2590252903674975\n",
            "  (23886, 39806)\t0.092094582914878\n",
            "  (23886, 18491)\t0.18650373048183777\n",
            "  (23886, 43877)\t0.18076313581524958\n",
            "  (23886, 39741)\t0.09408959559625536\n",
            "  (23886, 25492)\t0.09038156790762479\n",
            "  (23886, 1436)\t0.1849364416567686\n",
            "  (23886, 32052)\t0.3197745502811419\n",
            "  (23886, 60498)\t0.1008846038742874\n",
            "  (23886, 15187)\t0.101668248286822\n",
            "  (23886, 30786)\t0.2017692077485748\n",
            "  (23886, 38945)\t0.2017692077485748\n",
            "  (23886, 7762)\t0.2424209690768762\n"
          ]
        }
      ],
      "source": [
        "#Checkign the corelation coefficient of the features\n",
        "#Now since our data is mixed, it has numerical, cateogrical and text we need to use different methods\n",
        "#Using TF-IDF to vectorize the text data\n",
        "\n",
        "from sklearn.feature_extraction.text import TfidfVectorizer\n",
        "\n",
        "texts = df[text_features]\n",
        "vectorizer = TfidfVectorizer()\n",
        "vectors = vectorizer.fit_transform(texts.apply(lambda x: ' '.join(x), axis=1))\n",
        "print(vectors)\n"
      ]
    },
    {
      "cell_type": "code",
      "execution_count": 95,
      "metadata": {
        "colab": {
          "base_uri": "https://localhost:8080/",
          "height": 682
        },
        "id": "HkzpBhhgVErd",
        "outputId": "677ae823-89a9-4b50-ee2d-da61b49ed17b"
      },
      "outputs": [
        {
          "data": {
            "image/png": "[encoded data removed]",
            "text/plain": [
              "<Figure size 1000x800 with 2 Axes>"
            ]
          },
          "metadata": {},
          "output_type": "display_data"
        }
      ],
      "source": [
        "#Corelation matrix for numerical values\n",
        "import seaborn as sns\n",
        "import matplotlib.pyplot as plt\n",
        "numeric_df = df.select_dtypes(include='number')\n",
        "\n",
        "# Correlation matrix\n",
        "corr = numeric_df.corr()\n",
        "\n",
        "# Plot heatmap\n",
        "plt.figure(figsize=(10,8))\n",
        "sns.heatmap(corr, annot=True, cmap='coolwarm')\n",
        "plt.show()"
      ]
    },
    {
      "cell_type": "code",
      "execution_count": 96,
      "metadata": {
        "colab": {
          "base_uri": "https://localhost:8080/",
          "height": 943
        },
        "id": "SlJZSGVgV13K",
        "outputId": "46f64452-c967-4e66-869c-49a2393b54e1"
      },
      "outputs": [
        {
          "data": {
            "image/png": "[encoded data removed]",
            "text/plain": [
              "<Figure size 1200x1000 with 2 Axes>"
            ]
          },
          "metadata": {},
          "output_type": "display_data"
        }
      ],
      "source": [
        "#Finding the correlation between features for categorical values\n",
        "df_encoded = df.copy()\n",
        "\n",
        "# Converting categorical columns to numerical codes\n",
        "for col in df_encoded.select_dtypes(include='object').columns:\n",
        "    df_encoded[col] = df_encoded[col].astype('category').cat.codes\n",
        "\n",
        "# Now correlation works\n",
        "corr_all = df_encoded.corr()\n",
        "\n",
        "plt.figure(figsize=(12,10))\n",
        "sns.heatmap(corr_all, annot=False, cmap='coolwarm')\n",
        "plt.show()\n"
      ]
    },
    {
      "cell_type": "code",
      "execution_count": 98,
      "metadata": {
        "colab": {
          "base_uri": "https://localhost:8080/",
          "height": 807
        },
        "id": "u5kfOkmeWI31",
        "outputId": "072c69c5-309b-41f3-c5d0-e7518f5bb80f"
      },
      "outputs": [
        {
          "data": {
            "image/png": "[encoded data removed]",
            "text/plain": [
              "<Figure size 1000x800 with 2 Axes>"
            ]
          },
          "metadata": {},
          "output_type": "display_data"
        }
      ],
      "source": [
        "#Since most of our features are textual in nature, we will be using the methods used for text data\n",
        "from sklearn.feature_extraction.text import TfidfVectorizer\n",
        "from sklearn.metrics.pairwise import cosine_similarity\n",
        "import pandas as pd\n",
        "import seaborn as sns\n",
        "import matplotlib.pyplot as plt\n",
        "import numpy as np\n",
        "\n",
        "# Select text columns\n",
        "text_columns = ['abstract', 'snippet', 'lead_paragraph', 'print_section',\n",
        "                'source', 'headline', 'keywords', 'news_desk',\n",
        "                'section_name', 'subsection_name', 'byline', 'type_of_material']\n",
        "\n",
        "# Fill missing values and ensure all are strings\n",
        "df_text = df[text_columns].fillna('').astype(str)\n",
        "\n",
        "# Combine all text data for fitting the vectorizer\n",
        "combined_text = df_text.apply(lambda x: ' '.join(x), axis=1)\n",
        "\n",
        "# Create and fit a single TF-IDF vectorizer\n",
        "vectorizer = TfidfVectorizer(stop_words='english') # Removed max_features\n",
        "vectorizer.fit(combined_text)\n",
        "\n",
        "# Create TF-IDF vectors for each column using the fitted vectorizer\n",
        "tfidf_vectors = {}\n",
        "for col in text_columns:\n",
        "    vec = vectorizer.transform(df_text[col])\n",
        "    tfidf_vectors[col] = np.asarray(vec.mean(axis=0)).flatten()  # convert to 1D numpy array\n",
        "\n",
        "# Stack all vectors (each row = one feature)\n",
        "feature_matrix = np.vstack([tfidf_vectors[col] for col in text_columns])\n",
        "\n",
        "# Compute cosine similarity between features\n",
        "feature_similarity = cosine_similarity(feature_matrix)\n",
        "\n",
        "# Plot heatmap\n",
        "plt.figure(figsize=(10, 8))\n",
        "sns.heatmap(feature_similarity,\n",
        "            xticklabels=text_columns,\n",
        "            yticklabels=text_columns,\n",
        "            annot=True,\n",
        "            cmap='YlOrBr')\n",
        "plt.title('Cosine Similarity Between Text Features', fontsize=14)\n",
        "plt.xticks(rotation=45, ha='right')\n",
        "plt.yticks(rotation=0)\n",
        "plt.tight_layout()\n",
        "plt.show()"
      ]
    },
    {
      "cell_type": "code",
      "execution_count": 99,
      "metadata": {
        "colab": {
          "base_uri": "https://localhost:8080/"
        },
        "id": "pw2PInEaaQpk",
        "outputId": "e5d8b647-44cd-44d6-a047-3a8432323b5f"
      },
      "outputs": [
        {
          "name": "stdout",
          "output_type": "stream",
          "text": [
            "Final features to keep:  ['abstract', 'print_section', 'source', 'headline', 'keywords', 'news_desk', 'section_name', 'byline', 'type_of_material']\n"
          ]
        }
      ],
      "source": [
        "#FEATURE SELECTION\n",
        "#Now that we have implemented three methods for checking feature relation\n",
        "#Corelation for numerical values\n",
        "#TF-IDF and cosine similarity for text features\n",
        "\n",
        "#Setting a threshold\n",
        "#Features which have similarity more than 60 percent\n",
        "\n",
        "threshold = 0.6\n",
        "\n",
        "redundant_features = set()\n",
        "features = list(df_text.columns)\n",
        "\n",
        "#Finding all the pairs of features which have a high similarity\n",
        "for i in range(len(features)):\n",
        "  for j in range(i+1, len(features)):\n",
        "    sim_value = feature_similarity[i,j]\n",
        "    if sim_value >= threshold:\n",
        "      redundant_features.add(features[j])\n",
        "\n",
        "#Creating final list of features which we will choose\n",
        "final_feature_list = [f for f in features if f not in redundant_features]\n",
        "\n",
        "print(\"Final features to keep: \", final_feature_list)"
      ]
    },
    {
      "cell_type": "code",
      "execution_count": 100,
      "metadata": {
        "id": "H6rVdp4qxuil"
      },
      "outputs": [],
      "source": [
        "#STEP 5 - MODEL SELECTION AND INITIAL CLASSIFICATION\n",
        "#Model selected is randomforestclassifier to just check the initial classification and compare it with different train test ratios\n",
        "\n"
      ]
    },
    {
      "cell_type": "code",
      "execution_count": 101,
      "metadata": {
        "id": "lT8NVRaVd2hv"
      },
      "outputs": [],
      "source": [
        "#Final cleaning\n",
        "#Removing punctuations\n",
        "# Converting all to lowercase\n",
        "\n",
        "final_features = ['abstract', 'print_section', 'source', 'headline', 'keywords',\n",
        "                  'news_desk', 'section_name', 'byline', 'type_of_material']\n",
        "\n",
        "# Convert to lowercase\n",
        "df[final_features] = df[final_features].apply(lambda x: x.str.lower())\n",
        "\n",
        "# Remove punctuation using regex (use raw string 'r' to avoid invalid escape warning)\n",
        "df[final_features] = df[final_features].apply(lambda x: x.str.replace(r'[^\\w\\s]', '', regex=True))\n",
        "\n"
      ]
    },
    {
      "cell_type": "code",
      "execution_count": 102,
      "metadata": {
        "id": "BxRuxLPDxuim"
      },
      "outputs": [],
      "source": [
        "#Now got the api data from the same data and generates randomforestclassiifer for the following"
      ]
    },
    {
      "cell_type": "code",
      "execution_count": 8,
      "metadata": {
        "colab": {
          "base_uri": "https://localhost:8080/",
          "height": 73
        },
        "id": "mAVTYaysxuin",
        "outputId": "b115127a-0f17-462d-dd3d-cf8da833ad78"
      },
      "outputs": [
        {
          "data": {
            "text/html": [
              "\n",
              "     <input type=\"file\" id=\"files-abc4f468-12bf-45a8-8a52-67cda333a26b\" name=\"files[]\" multiple disabled\n",
              "        style=\"border:none\" />\n",
              "     <output id=\"result-abc4f468-12bf-45a8-8a52-67cda333a26b\">\n",
              "      Upload widget is only available when the cell has been executed in the\n",
              "      current browser session. Please rerun this cell to enable.\n",
              "      </output>\n",
              "      <script>// Copyright 2017 Google LLC\n",
              "//\n",
              "// Licensed under the Apache License, Version 2.0 (the \"License\");\n",
              "// you may not use this file except in compliance with the License.\n",
              "// You may obtain a copy of the License at\n",
              "//\n",
              "//      http://www.apache.org/licenses/LICENSE-2.0\n",
              "//\n",
              "// Unless required by applicable law or agreed to in writing, software\n",
              "// distributed under the License is distributed on an \"AS IS\" BASIS,\n",
              "// WITHOUT WARRANTIES OR CONDITIONS OF ANY KIND, either express or implied.\n",
              "// See the License for the specific language governing permissions and\n",
              "// limitations under the License.\n",
              "\n",
              "/**\n",
              " * @fileoverview Helpers for google.colab Python module.\n",
              " */\n",
              "(function(scope) {\n",
              "function span(text, styleAttributes = {}) {\n",
              "  const element = document.createElement('span');\n",
              "  element.textContent = text;\n",
              "  for (const key of Object.keys(styleAttributes)) {\n",
              "    element.style[key] = styleAttributes[key];\n",
              "  }\n",
              "  return element;\n",
              "}\n",
              "\n",
              "// Max number of bytes which will be uploaded at a time.\n",
              "const MAX_PAYLOAD_SIZE = 100 * 1024;\n",
              "\n",
              "function _uploadFiles(inputId, outputId) {\n",
              "  const steps = uploadFilesStep(inputId, outputId);\n",
              "  const outputElement = document.getElementById(outputId);\n",
              "  // Cache steps on the outputElement to make it available for the next call\n",
              "  // to uploadFilesContinue from Python.\n",
              "  outputElement.steps = steps;\n",
              "\n",
              "  return _uploadFilesContinue(outputId);\n",
              "}\n",
              "\n",
              "// This is roughly an async generator (not supported in the browser yet),\n",
              "// where there are multiple asynchronous steps and the Python side is going\n",
              "// to poll for completion of each step.\n",
              "// This uses a Promise to block the python side on completion of each step,\n",
              "// then passes the result of the previous step as the input to the next step.\n",
              "function _uploadFilesContinue(outputId) {\n",
              "  const outputElement = document.getElementById(outputId);\n",
              "  const steps = outputElement.steps;\n",
              "\n",
              "  const next = steps.next(outputElement.lastPromiseValue);\n",
              "  return Promise.resolve(next.value.promise).then((value) => {\n",
              "    // Cache the last promise value to make it available to the next\n",
              "    // step of the generator.\n",
              "    outputElement.lastPromiseValue = value;\n",
              "    return next.value.response;\n",
              "  });\n",
              "}\n",
              "\n",
              "/**\n",
              " * Generator function which is called between each async step of the upload\n",
              " * process.\n",
              " * @param {string} inputId Element ID of the input file picker element.\n",
              " * @param {string} outputId Element ID of the output display.\n",
              " * @return {!Iterable<!Object>} Iterable of next steps.\n",
              " */\n",
              "function* uploadFilesStep(inputId, outputId) {\n",
              "  const inputElement = document.getElementById(inputId);\n",
              "  inputElement.disabled = false;\n",
              "\n",
              "  const outputElement = document.getElementById(outputId);\n",
              "  outputElement.innerHTML = '';\n",
              "\n",
              "  const pickedPromise = new Promise((resolve) => {\n",
              "    inputElement.addEventListener('change', (e) => {\n",
              "      resolve(e.target.files);\n",
              "    });\n",
              "  });\n",
              "\n",
              "  const cancel = document.createElement('button');\n",
              "  inputElement.parentElement.appendChild(cancel);\n",
              "  cancel.textContent = 'Cancel upload';\n",
              "  const cancelPromise = new Promise((resolve) => {\n",
              "    cancel.onclick = () => {\n",
              "      resolve(null);\n",
              "    };\n",
              "  });\n",
              "\n",
              "  // Wait for the user to pick the files.\n",
              "  const files = yield {\n",
              "    promise: Promise.race([pickedPromise, cancelPromise]),\n",
              "    response: {\n",
              "      action: 'starting',\n",
              "    }\n",
              "  };\n",
              "\n",
              "  cancel.remove();\n",
              "\n",
              "  // Disable the input element since further picks are not allowed.\n",
              "  inputElement.disabled = true;\n",
              "\n",
              "  if (!files) {\n",
              "    return {\n",
              "      response: {\n",
              "        action: 'complete',\n",
              "      }\n",
              "    };\n",
              "  }\n",
              "\n",
              "  for (const file of files) {\n",
              "    const li = document.createElement('li');\n",
              "    li.append(span(file.name, {fontWeight: 'bold'}));\n",
              "    li.append(span(\n",
              "        `(${file.type || 'n/a'}) - ${file.size} bytes, ` +\n",
              "        `last modified: ${\n",
              "            file.lastModifiedDate ? file.lastModifiedDate.toLocaleDateString() :\n",
              "                                    'n/a'} - `));\n",
              "    const percent = span('0% done');\n",
              "    li.appendChild(percent);\n",
              "\n",
              "    outputElement.appendChild(li);\n",
              "\n",
              "    const fileDataPromise = new Promise((resolve) => {\n",
              "      const reader = new FileReader();\n",
              "      reader.onload = (e) => {\n",
              "        resolve(e.target.result);\n",
              "      };\n",
              "      reader.readAsArrayBuffer(file);\n",
              "    });\n",
              "    // Wait for the data to be ready.\n",
              "    let fileData = yield {\n",
              "      promise: fileDataPromise,\n",
              "      response: {\n",
              "        action: 'continue',\n",
              "      }\n",
              "    };\n",
              "\n",
              "    // Use a chunked sending to avoid message size limits. See b/62115660.\n",
              "    let position = 0;\n",
              "    do {\n",
              "      const length = Math.min(fileData.byteLength - position, MAX_PAYLOAD_SIZE);\n",
              "      const chunk = new Uint8Array(fileData, position, length);\n",
              "      position += length;\n",
              "\n",
              "      const base64 = btoa(String.fromCharCode.apply(null, chunk));\n",
              "      yield {\n",
              "        response: {\n",
              "          action: 'append',\n",
              "          file: file.name,\n",
              "          data: base64,\n",
              "        },\n",
              "      };\n",
              "\n",
              "      let percentDone = fileData.byteLength === 0 ?\n",
              "          100 :\n",
              "          Math.round((position / fileData.byteLength) * 100);\n",
              "      percent.textContent = `${percentDone}% done`;\n",
              "\n",
              "    } while (position < fileData.byteLength);\n",
              "  }\n",
              "\n",
              "  // All done.\n",
              "  yield {\n",
              "    response: {\n",
              "      action: 'complete',\n",
              "    }\n",
              "  };\n",
              "}\n",
              "\n",
              "scope.google = scope.google || {};\n",
              "scope.google.colab = scope.google.colab || {};\n",
              "scope.google.colab._files = {\n",
              "  _uploadFiles,\n",
              "  _uploadFilesContinue,\n",
              "};\n",
              "})(self);\n",
              "</script> "
            ],
            "text/plain": [
              "<IPython.core.display.HTML object>"
            ]
          },
          "metadata": {},
          "output_type": "display_data"
        },
        {
          "name": "stdout",
          "output_type": "stream",
          "text": [
            "Saving api_data.csv to api_data (1).csv\n"
          ]
        }
      ],
      "source": [
        "from google.colab import files\n",
        "uploaded = files.upload()\n",
        "\n",
        "data = pd.read_csv('api_data.csv', encoding = \"ISO-8859-1\")"
      ]
    },
    {
      "cell_type": "code",
      "execution_count": 9,
      "metadata": {
        "id": "EsQ3o_H2Fjc3"
      },
      "outputs": [],
      "source": [
        "train = df[:12000]\n",
        "test = df[3766:]"
      ]
    },
    {
      "cell_type": "code",
      "execution_count": 10,
      "metadata": {
        "id": "TilxNWbjxuip"
      },
      "outputs": [],
      "source": [
        "#Taking only abstract features first\n",
        "abstracts = []\n",
        "for row in range(0,len(train.index)): # Changed data.index to train.index\n",
        "    abstracts.append(' '.join(str(x) for x in data.iloc[row,0:1]))"
      ]
    },
    {
      "cell_type": "code",
      "execution_count": 11,
      "metadata": {
        "colab": {
          "base_uri": "https://localhost:8080/",
          "height": 35
        },
        "id": "uySiP623xuip",
        "outputId": "83a54a66-35a3-41fc-84fe-324eedc44bc2"
      },
      "outputs": [
        {
          "data": {
            "application/vnd.google.colaboratory.intrinsic+json": {
              "type": "string"
            },
            "text/plain": [
              "'The tentative deal for the menâ\\x80\\x99s golf circuits to join forces had a Dec. 31 deadline, but significant questions remained.'"
            ]
          },
          "execution_count": 11,
          "metadata": {},
          "output_type": "execute_result"
        }
      ],
      "source": [
        "abstracts[0]"
      ]
    },
    {
      "cell_type": "code",
      "execution_count": null,
      "metadata": {
        "id": "tCSs1ZbVkyBQ"
      },
      "outputs": [],
      "source": []
    }
  ],
  "metadata": {
    "colab": {
      "provenance": []
    },
    "kernelspec": {
      "display_name": "Python 3",
      "language": "python",
      "name": "python3"
    },
    "language_info": {
      "codemirror_mode": {
        "name": "ipython",
        "version": 3
      },
      "file_extension": ".py",
      "mimetype": "text/x-python",
      "name": "python",
      "nbconvert_exporter": "python",
      "pygments_lexer": "ipython3",
      "version": "3.13.7"
    }
  },
  "nbformat": 4,
  "nbformat_minor": 0
}
